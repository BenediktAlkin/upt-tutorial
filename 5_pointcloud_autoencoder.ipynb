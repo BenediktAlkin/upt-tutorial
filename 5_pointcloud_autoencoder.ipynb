{
 "cells": [
  {
   "cell_type": "code",
   "execution_count": 1,
   "metadata": {
    "colab": {
     "base_uri": "https://localhost:8080/"
    },
    "id": "ZVHvjNIKUQPc",
    "outputId": "6bf1cc8b-b8c4-4cfb-adbc-5619042351c1"
   },
   "outputs": [
    {
     "output_type": "stream",
     "name": "stdout",
     "text": [
      "Requirement already satisfied: kappamodules in /usr/local/lib/python3.10/dist-packages (0.1.99)\n",
      "Requirement already satisfied: torch in /usr/local/lib/python3.10/dist-packages (from kappamodules) (2.3.0+cu121)\n",
      "Requirement already satisfied: einops in /usr/local/lib/python3.10/dist-packages (from kappamodules) (0.8.0)\n",
      "Requirement already satisfied: numpy in /usr/local/lib/python3.10/dist-packages (from kappamodules) (1.26.4)\n",
      "Requirement already satisfied: filelock in /usr/local/lib/python3.10/dist-packages (from torch->kappamodules) (3.16.1)\n",
      "Requirement already satisfied: typing-extensions>=4.8.0 in /usr/local/lib/python3.10/dist-packages (from torch->kappamodules) (4.12.2)\n",
      "Requirement already satisfied: sympy in /usr/local/lib/python3.10/dist-packages (from torch->kappamodules) (1.13.3)\n",
      "Requirement already satisfied: networkx in /usr/local/lib/python3.10/dist-packages (from torch->kappamodules) (3.3)\n",
      "Requirement already satisfied: jinja2 in /usr/local/lib/python3.10/dist-packages (from torch->kappamodules) (3.1.4)\n",
      "Requirement already satisfied: fsspec in /usr/local/lib/python3.10/dist-packages (from torch->kappamodules) (2024.6.1)\n",
      "Requirement already satisfied: nvidia-cuda-nvrtc-cu12==12.1.105 in /usr/local/lib/python3.10/dist-packages (from torch->kappamodules) (12.1.105)\n",
      "Requirement already satisfied: nvidia-cuda-runtime-cu12==12.1.105 in /usr/local/lib/python3.10/dist-packages (from torch->kappamodules) (12.1.105)\n",
      "Requirement already satisfied: nvidia-cuda-cupti-cu12==12.1.105 in /usr/local/lib/python3.10/dist-packages (from torch->kappamodules) (12.1.105)\n",
      "Requirement already satisfied: nvidia-cudnn-cu12==8.9.2.26 in /usr/local/lib/python3.10/dist-packages (from torch->kappamodules) (8.9.2.26)\n",
      "Requirement already satisfied: nvidia-cublas-cu12==12.1.3.1 in /usr/local/lib/python3.10/dist-packages (from torch->kappamodules) (12.1.3.1)\n",
      "Requirement already satisfied: nvidia-cufft-cu12==11.0.2.54 in /usr/local/lib/python3.10/dist-packages (from torch->kappamodules) (11.0.2.54)\n",
      "Requirement already satisfied: nvidia-curand-cu12==10.3.2.106 in /usr/local/lib/python3.10/dist-packages (from torch->kappamodules) (10.3.2.106)\n",
      "Requirement already satisfied: nvidia-cusolver-cu12==11.4.5.107 in /usr/local/lib/python3.10/dist-packages (from torch->kappamodules) (11.4.5.107)\n",
      "Requirement already satisfied: nvidia-cusparse-cu12==12.1.0.106 in /usr/local/lib/python3.10/dist-packages (from torch->kappamodules) (12.1.0.106)\n",
      "Requirement already satisfied: nvidia-nccl-cu12==2.20.5 in /usr/local/lib/python3.10/dist-packages (from torch->kappamodules) (2.20.5)\n",
      "Requirement already satisfied: nvidia-nvtx-cu12==12.1.105 in /usr/local/lib/python3.10/dist-packages (from torch->kappamodules) (12.1.105)\n",
      "Requirement already satisfied: triton==2.3.0 in /usr/local/lib/python3.10/dist-packages (from torch->kappamodules) (2.3.0)\n",
      "Requirement already satisfied: nvidia-nvjitlink-cu12 in /usr/local/lib/python3.10/dist-packages (from nvidia-cusolver-cu12==11.4.5.107->torch->kappamodules) (12.6.68)\n",
      "Requirement already satisfied: MarkupSafe>=2.0 in /usr/local/lib/python3.10/dist-packages (from jinja2->torch->kappamodules) (2.1.5)\n",
      "Requirement already satisfied: mpmath<1.4,>=1.1.0 in /usr/local/lib/python3.10/dist-packages (from sympy->torch->kappamodules) (1.3.0)\n",
      "Requirement already satisfied: torch_geometric in /usr/local/lib/python3.10/dist-packages (2.6.1)\n",
      "Requirement already satisfied: aiohttp in /usr/local/lib/python3.10/dist-packages (from torch_geometric) (3.10.8)\n",
      "Requirement already satisfied: fsspec in /usr/local/lib/python3.10/dist-packages (from torch_geometric) (2024.6.1)\n",
      "Requirement already satisfied: jinja2 in /usr/local/lib/python3.10/dist-packages (from torch_geometric) (3.1.4)\n",
      "Requirement already satisfied: numpy in /usr/local/lib/python3.10/dist-packages (from torch_geometric) (1.26.4)\n",
      "Requirement already satisfied: psutil>=5.8.0 in /usr/local/lib/python3.10/dist-packages (from torch_geometric) (5.9.5)\n",
      "Requirement already satisfied: pyparsing in /usr/local/lib/python3.10/dist-packages (from torch_geometric) (3.1.4)\n",
      "Requirement already satisfied: requests in /usr/local/lib/python3.10/dist-packages (from torch_geometric) (2.32.3)\n",
      "Requirement already satisfied: tqdm in /usr/local/lib/python3.10/dist-packages (from torch_geometric) (4.66.5)\n",
      "Requirement already satisfied: aiohappyeyeballs>=2.3.0 in /usr/local/lib/python3.10/dist-packages (from aiohttp->torch_geometric) (2.4.3)\n",
      "Requirement already satisfied: aiosignal>=1.1.2 in /usr/local/lib/python3.10/dist-packages (from aiohttp->torch_geometric) (1.3.1)\n",
      "Requirement already satisfied: attrs>=17.3.0 in /usr/local/lib/python3.10/dist-packages (from aiohttp->torch_geometric) (24.2.0)\n",
      "Requirement already satisfied: frozenlist>=1.1.1 in /usr/local/lib/python3.10/dist-packages (from aiohttp->torch_geometric) (1.4.1)\n",
      "Requirement already satisfied: multidict<7.0,>=4.5 in /usr/local/lib/python3.10/dist-packages (from aiohttp->torch_geometric) (6.1.0)\n",
      "Requirement already satisfied: yarl<2.0,>=1.12.0 in /usr/local/lib/python3.10/dist-packages (from aiohttp->torch_geometric) (1.13.1)\n",
      "Requirement already satisfied: async-timeout<5.0,>=4.0 in /usr/local/lib/python3.10/dist-packages (from aiohttp->torch_geometric) (4.0.3)\n",
      "Requirement already satisfied: MarkupSafe>=2.0 in /usr/local/lib/python3.10/dist-packages (from jinja2->torch_geometric) (2.1.5)\n",
      "Requirement already satisfied: charset-normalizer<4,>=2 in /usr/local/lib/python3.10/dist-packages (from requests->torch_geometric) (3.3.2)\n",
      "Requirement already satisfied: idna<4,>=2.5 in /usr/local/lib/python3.10/dist-packages (from requests->torch_geometric) (3.10)\n",
      "Requirement already satisfied: urllib3<3,>=1.21.1 in /usr/local/lib/python3.10/dist-packages (from requests->torch_geometric) (2.2.3)\n",
      "Requirement already satisfied: certifi>=2017.4.17 in /usr/local/lib/python3.10/dist-packages (from requests->torch_geometric) (2024.8.30)\n",
      "Requirement already satisfied: typing-extensions>=4.1.0 in /usr/local/lib/python3.10/dist-packages (from multidict<7.0,>=4.5->aiohttp->torch_geometric) (4.12.2)\n"
     ]
    }
   ],
   "source": [
    "# setup environment\n",
    "!pip install kappamodules\n",
    "!pip install torch_geometric"
   ]
  },
  {
   "cell_type": "code",
   "outputs": [
    {
     "output_type": "stream",
     "name": "stdout",
     "text": [
      "Found existing installation: torch 2.3.0+cu121\n",
      "Uninstalling torch-2.3.0+cu121:\n",
      "  Successfully uninstalled torch-2.3.0+cu121\n",
      "\u001B[33mWARNING: Skipping torchaudio as it is not installed.\u001B[0m\u001B[33m\n",
      "\u001B[0mFound existing installation: torchvision 0.18.0+cu121\n",
      "Uninstalling torchvision-0.18.0+cu121:\n",
      "  Successfully uninstalled torchvision-0.18.0+cu121\n",
      "Looking in links: https://download.pytorch.org/whl/torch_stable.html\n",
      "Collecting torch==2.3.0+cu121\n",
      "  Using cached https://download.pytorch.org/whl/cu121/torch-2.3.0%2Bcu121-cp310-cp310-linux_x86_64.whl (781.0 MB)\n",
      "Requirement already satisfied: filelock in /usr/local/lib/python3.10/dist-packages (from torch==2.3.0+cu121) (3.16.1)\n",
      "Requirement already satisfied: typing-extensions>=4.8.0 in /usr/local/lib/python3.10/dist-packages (from torch==2.3.0+cu121) (4.12.2)\n",
      "Requirement already satisfied: sympy in /usr/local/lib/python3.10/dist-packages (from torch==2.3.0+cu121) (1.13.3)\n",
      "Requirement already satisfied: networkx in /usr/local/lib/python3.10/dist-packages (from torch==2.3.0+cu121) (3.3)\n",
      "Requirement already satisfied: jinja2 in /usr/local/lib/python3.10/dist-packages (from torch==2.3.0+cu121) (3.1.4)\n",
      "Requirement already satisfied: fsspec in /usr/local/lib/python3.10/dist-packages (from torch==2.3.0+cu121) (2024.6.1)\n",
      "Requirement already satisfied: nvidia-cuda-nvrtc-cu12==12.1.105 in /usr/local/lib/python3.10/dist-packages (from torch==2.3.0+cu121) (12.1.105)\n",
      "Requirement already satisfied: nvidia-cuda-runtime-cu12==12.1.105 in /usr/local/lib/python3.10/dist-packages (from torch==2.3.0+cu121) (12.1.105)\n",
      "Requirement already satisfied: nvidia-cuda-cupti-cu12==12.1.105 in /usr/local/lib/python3.10/dist-packages (from torch==2.3.0+cu121) (12.1.105)\n",
      "Requirement already satisfied: nvidia-cudnn-cu12==8.9.2.26 in /usr/local/lib/python3.10/dist-packages (from torch==2.3.0+cu121) (8.9.2.26)\n",
      "Requirement already satisfied: nvidia-cublas-cu12==12.1.3.1 in /usr/local/lib/python3.10/dist-packages (from torch==2.3.0+cu121) (12.1.3.1)\n",
      "Requirement already satisfied: nvidia-cufft-cu12==11.0.2.54 in /usr/local/lib/python3.10/dist-packages (from torch==2.3.0+cu121) (11.0.2.54)\n",
      "Requirement already satisfied: nvidia-curand-cu12==10.3.2.106 in /usr/local/lib/python3.10/dist-packages (from torch==2.3.0+cu121) (10.3.2.106)\n",
      "Requirement already satisfied: nvidia-cusolver-cu12==11.4.5.107 in /usr/local/lib/python3.10/dist-packages (from torch==2.3.0+cu121) (11.4.5.107)\n",
      "Requirement already satisfied: nvidia-cusparse-cu12==12.1.0.106 in /usr/local/lib/python3.10/dist-packages (from torch==2.3.0+cu121) (12.1.0.106)\n",
      "Requirement already satisfied: nvidia-nccl-cu12==2.20.5 in /usr/local/lib/python3.10/dist-packages (from torch==2.3.0+cu121) (2.20.5)\n",
      "Requirement already satisfied: nvidia-nvtx-cu12==12.1.105 in /usr/local/lib/python3.10/dist-packages (from torch==2.3.0+cu121) (12.1.105)\n",
      "Requirement already satisfied: triton==2.3.0 in /usr/local/lib/python3.10/dist-packages (from torch==2.3.0+cu121) (2.3.0)\n",
      "Requirement already satisfied: nvidia-nvjitlink-cu12 in /usr/local/lib/python3.10/dist-packages (from nvidia-cusolver-cu12==11.4.5.107->torch==2.3.0+cu121) (12.6.68)\n",
      "Requirement already satisfied: MarkupSafe>=2.0 in /usr/local/lib/python3.10/dist-packages (from jinja2->torch==2.3.0+cu121) (2.1.5)\n",
      "Requirement already satisfied: mpmath<1.4,>=1.1.0 in /usr/local/lib/python3.10/dist-packages (from sympy->torch==2.3.0+cu121) (1.3.0)\n",
      "Installing collected packages: torch\n",
      "\u001B[31mERROR: pip's dependency resolver does not currently take into account all the packages that are installed. This behaviour is the source of the following dependency conflicts.\n",
      "fastai 2.7.17 requires torchvision>=0.11, which is not installed.\u001B[0m\u001B[31m\n",
      "\u001B[0mSuccessfully installed torch-2.3.0+cu121\n",
      "Looking in links: https://download.pytorch.org/whl/torch_stable.html\n",
      "Collecting torchvision==0.18.0+cu121\n",
      "  Using cached https://download.pytorch.org/whl/cu121/torchvision-0.18.0%2Bcu121-cp310-cp310-linux_x86_64.whl (7.0 MB)\n",
      "Requirement already satisfied: numpy in /usr/local/lib/python3.10/dist-packages (from torchvision==0.18.0+cu121) (1.26.4)\n",
      "Requirement already satisfied: torch==2.3.0 in /usr/local/lib/python3.10/dist-packages (from torchvision==0.18.0+cu121) (2.3.0+cu121)\n",
      "Requirement already satisfied: pillow!=8.3.*,>=5.3.0 in /usr/local/lib/python3.10/dist-packages (from torchvision==0.18.0+cu121) (10.4.0)\n",
      "Requirement already satisfied: filelock in /usr/local/lib/python3.10/dist-packages (from torch==2.3.0->torchvision==0.18.0+cu121) (3.16.1)\n",
      "Requirement already satisfied: typing-extensions>=4.8.0 in /usr/local/lib/python3.10/dist-packages (from torch==2.3.0->torchvision==0.18.0+cu121) (4.12.2)\n",
      "Requirement already satisfied: sympy in /usr/local/lib/python3.10/dist-packages (from torch==2.3.0->torchvision==0.18.0+cu121) (1.13.3)\n",
      "Requirement already satisfied: networkx in /usr/local/lib/python3.10/dist-packages (from torch==2.3.0->torchvision==0.18.0+cu121) (3.3)\n",
      "Requirement already satisfied: jinja2 in /usr/local/lib/python3.10/dist-packages (from torch==2.3.0->torchvision==0.18.0+cu121) (3.1.4)\n",
      "Requirement already satisfied: fsspec in /usr/local/lib/python3.10/dist-packages (from torch==2.3.0->torchvision==0.18.0+cu121) (2024.6.1)\n",
      "Requirement already satisfied: nvidia-cuda-nvrtc-cu12==12.1.105 in /usr/local/lib/python3.10/dist-packages (from torch==2.3.0->torchvision==0.18.0+cu121) (12.1.105)\n",
      "Requirement already satisfied: nvidia-cuda-runtime-cu12==12.1.105 in /usr/local/lib/python3.10/dist-packages (from torch==2.3.0->torchvision==0.18.0+cu121) (12.1.105)\n",
      "Requirement already satisfied: nvidia-cuda-cupti-cu12==12.1.105 in /usr/local/lib/python3.10/dist-packages (from torch==2.3.0->torchvision==0.18.0+cu121) (12.1.105)\n",
      "Requirement already satisfied: nvidia-cudnn-cu12==8.9.2.26 in /usr/local/lib/python3.10/dist-packages (from torch==2.3.0->torchvision==0.18.0+cu121) (8.9.2.26)\n",
      "Requirement already satisfied: nvidia-cublas-cu12==12.1.3.1 in /usr/local/lib/python3.10/dist-packages (from torch==2.3.0->torchvision==0.18.0+cu121) (12.1.3.1)\n",
      "Requirement already satisfied: nvidia-cufft-cu12==11.0.2.54 in /usr/local/lib/python3.10/dist-packages (from torch==2.3.0->torchvision==0.18.0+cu121) (11.0.2.54)\n",
      "Requirement already satisfied: nvidia-curand-cu12==10.3.2.106 in /usr/local/lib/python3.10/dist-packages (from torch==2.3.0->torchvision==0.18.0+cu121) (10.3.2.106)\n",
      "Requirement already satisfied: nvidia-cusolver-cu12==11.4.5.107 in /usr/local/lib/python3.10/dist-packages (from torch==2.3.0->torchvision==0.18.0+cu121) (11.4.5.107)\n",
      "Requirement already satisfied: nvidia-cusparse-cu12==12.1.0.106 in /usr/local/lib/python3.10/dist-packages (from torch==2.3.0->torchvision==0.18.0+cu121) (12.1.0.106)\n",
      "Requirement already satisfied: nvidia-nccl-cu12==2.20.5 in /usr/local/lib/python3.10/dist-packages (from torch==2.3.0->torchvision==0.18.0+cu121) (2.20.5)\n",
      "Requirement already satisfied: nvidia-nvtx-cu12==12.1.105 in /usr/local/lib/python3.10/dist-packages (from torch==2.3.0->torchvision==0.18.0+cu121) (12.1.105)\n",
      "Requirement already satisfied: triton==2.3.0 in /usr/local/lib/python3.10/dist-packages (from torch==2.3.0->torchvision==0.18.0+cu121) (2.3.0)\n",
      "Requirement already satisfied: nvidia-nvjitlink-cu12 in /usr/local/lib/python3.10/dist-packages (from nvidia-cusolver-cu12==11.4.5.107->torch==2.3.0->torchvision==0.18.0+cu121) (12.6.68)\n",
      "Requirement already satisfied: MarkupSafe>=2.0 in /usr/local/lib/python3.10/dist-packages (from jinja2->torch==2.3.0->torchvision==0.18.0+cu121) (2.1.5)\n",
      "Requirement already satisfied: mpmath<1.4,>=1.1.0 in /usr/local/lib/python3.10/dist-packages (from sympy->torch==2.3.0->torchvision==0.18.0+cu121) (1.3.0)\n",
      "Installing collected packages: torchvision\n",
      "Successfully installed torchvision-0.18.0+cu121\n",
      "Looking in links: https://data.pyg.org/whl/torch-2.3.0+cu121.html\n",
      "Requirement already satisfied: torch_scatter in /usr/local/lib/python3.10/dist-packages (2.1.2+pt23cu121)\n",
      "Requirement already satisfied: torch_cluster in /usr/local/lib/python3.10/dist-packages (1.6.3+pt23cu121)\n",
      "Requirement already satisfied: scipy in /usr/local/lib/python3.10/dist-packages (from torch_cluster) (1.13.1)\n",
      "Requirement already satisfied: numpy<2.3,>=1.22.4 in /usr/local/lib/python3.10/dist-packages (from scipy->torch_cluster) (1.26.4)\n"
     ]
    }
   ],
   "source": [
    "!pip uninstall torch -y\n",
    "!pip uninstall torchaudio -y\n",
    "!pip uninstall torchvision -y\n",
    "# torch_cluster often doesnt support newest pytorch version which is by default installed in colab -> install older one\n",
    "!pip install torch==2.3.0+cu121 torchvision==0.18.0+cu121 -f https://download.pytorch.org/whl/torch_stable.html\n",
    "# install torch_scatter\n",
    "!pip install torch_scatter torch_cluster -f https://data.pyg.org/whl/torch-2.3.0+cu121.html"
   ],
   "metadata": {
    "colab": {
     "base_uri": "https://localhost:8080/"
    },
    "id": "yhArqRezUQPd",
    "outputId": "17f24700-9116-445b-c2e9-42bbe05bb8f2"
   },
   "execution_count": 2
  },
  {
   "cell_type": "code",
   "outputs": [
    {
     "output_type": "stream",
     "name": "stdout",
     "text": [
      "2.3.0+cu121\n",
      "Tesla T4\n",
      "0.18.0+cu121\n"
     ]
    }
   ],
   "source": [
    "# check successful setup\n",
    "import torch\n",
    "print(torch.__version__)\n",
    "device = torch.device(\"cuda\")\n",
    "print(torch.cuda.get_device_name(device))\n",
    "import torchvision\n",
    "print(torchvision.__version__)\n",
    "from torch_geometric.nn.pool import radius_graph\n",
    "from torch_scatter import segment_csr"
   ],
   "metadata": {
    "colab": {
     "base_uri": "https://localhost:8080/"
    },
    "id": "Cx6_DhNmUQPe",
    "outputId": "8416294b-2421-4f42-f857-2fc716cbaf8a"
   },
   "execution_count": 3
  },
  {
   "cell_type": "code",
   "outputs": [
    {
     "output_type": "stream",
     "name": "stdout",
     "text": [
      "fatal: destination path 'upt-minimal' already exists and is not an empty directory.\n",
      "/content/upt-minimal\n"
     ]
    }
   ],
   "source": [
    "# clone repo\n",
    "!git clone https://github.com/BenediktAlkin/upt-minimal.git\n",
    "%cd upt-minimal"
   ],
   "metadata": {
    "colab": {
     "base_uri": "https://localhost:8080/"
    },
    "id": "ieUUWIA2UQPe",
    "outputId": "26b9b50a-c385-4ecf-9515-be167c59025d"
   },
   "execution_count": 4
  },
  {
   "cell_type": "markdown",
   "metadata": {
    "collapsed": true,
    "pycharm": {
     "name": "#%% md\n"
    },
    "id": "slDcXjfvUQPe"
   },
   "source": [
    "# 5 Pointcloud Autoencoder\n",
    "\n",
    "Now that we know how the encoder works with sparse tensors, we will now also predict a sparse tensor.\n",
    "To this end, we'll train UPT on `SparseCIFAR10` in an autoencoder setting.\n",
    "\n",
    "<img width=\"60%\" src=\"https://raw.githubusercontent.com/BenediktAlkin/upt-minimal/main/schematics/upt_sparse_autoencoder.svg\">\n",
    "\n",
    "For simplicity, we use a fixed number of output points, but this is not a requirement.\n",
    "But it would need some more dataloading stuff to create the tensors for `torch_geometric.utils.unbatch`\n",
    "which is a function that produces a sparse tensor from a padded dense tensor.\n",
    "\n",
    "Again, lets initialize the dataset and visualize a sample:"
   ]
  },
  {
   "cell_type": "code",
   "execution_count": 5,
   "metadata": {
    "pycharm": {
     "name": "#%%\n"
    },
    "colab": {
     "base_uri": "https://localhost:8080/"
    },
    "id": "ewnH94s1UQPf",
    "outputId": "9f0ecb0b-2760-44d7-a536-3e081ec4176f"
   },
   "outputs": [
    {
     "output_type": "stream",
     "name": "stdout",
     "text": [
      "Files already downloaded and verified\n"
     ]
    }
   ],
   "source": [
    "# initialize CIFAR10\n",
    "from upt.datasets.sparse_cifar10_autoencoder_dataset import SparseCIFAR10AutoencoderDataset\n",
    "from torchvision.transforms import ToTensor\n",
    "train_dataset = SparseCIFAR10AutoencoderDataset(\n",
    "    root=\"./data\",\n",
    "    train=True,\n",
    "    download=True,\n",
    "    transform=ToTensor(),\n",
    "    # use half of the inputs for training (32x32 pixels = 1024)\n",
    "    num_inputs=512,\n",
    "    # use 3/4th of the outputs for training (32x32 pixels = 1024)\n",
    "    num_outputs=768,\n",
    ")"
   ]
  },
  {
   "cell_type": "code",
   "execution_count": 6,
   "metadata": {
    "pycharm": {
     "name": "#%%\n"
    },
    "colab": {
     "base_uri": "https://localhost:8080/",
     "height": 224
    },
    "id": "ehDWhjWnUQPg",
    "outputId": "397e30eb-1b1f-4ca2-bae2-eff812776057"
   },
   "outputs": [
    {
     "output_type": "stream",
     "name": "stdout",
     "text": [
      "Files already downloaded and verified\n"
     ]
    },
    {
     "output_type": "display_data",
     "data": {
      "text/plain": [
       "<Figure size 600x200 with 3 Axes>"
      ],
      "image/png": "[encoded data removed]"
     },
     "metadata": {}
    }
   ],
   "source": [
    "# now plotting is a bit trickier because we have a sparse tensor\n",
    "# we'll make a scatter plot where each point is colored with the\n",
    "# RGB value of the pixel\n",
    "import matplotlib.pyplot as plt\n",
    "import einops\n",
    "\n",
    "# get dense sample\n",
    "from torchvision.datasets import CIFAR10\n",
    "from torchvision.transforms import ToTensor\n",
    "train_dataset_dense = CIFAR10(root=\"./data\", train=True, download=True)\n",
    "dense_sample = train_dataset_dense[0][0]\n",
    "dense_sample = ToTensor()(dense_sample)\n",
    "# get sparse sample\n",
    "sample = train_dataset[0]\n",
    "x_in, y_in = sample[\"input_pos\"].unbind(1)\n",
    "c_in = sample[\"input_feat\"]\n",
    "x_out, y_out = sample[\"output_pos\"].unbind(1)\n",
    "c_out = sample[\"target_feat\"]\n",
    "\n",
    "_, axes = plt.subplots(1, 3, figsize=(6, 2))\n",
    "axes[0].imshow(einops.rearrange(dense_sample, \"three height width -> height width three\"))\n",
    "axes[0].set_title(\"dense\")\n",
    "axes[0].set_axis_off()\n",
    "axes[1].scatter(y_in, 31 - x_in, c=c_in, marker=\"s\", s=10)\n",
    "axes[1].set_title(\"sparse input\")\n",
    "axes[1].set_axis_off()\n",
    "axes[2].scatter(y_out, 31 - x_out, c=c_out, marker=\"s\", s=10)\n",
    "axes[2].set_title(\"sparse target\")\n",
    "axes[2].set_axis_off()\n",
    "plt.tight_layout()\n",
    "plt.show()"
   ]
  },
  {
   "cell_type": "markdown",
   "metadata": {
    "collapsed": false,
    "pycharm": {
     "name": "#%% md\n"
    },
    "id": "LXdGK-_XUQPg"
   },
   "source": [
    "Lets see how a forward pass looks like for a single sample (so we don't need a collator yet)"
   ]
  },
  {
   "cell_type": "code",
   "execution_count": 7,
   "metadata": {
    "pycharm": {
     "name": "#%%\n"
    },
    "colab": {
     "base_uri": "https://localhost:8080/"
    },
    "id": "YN9ganadUQPg",
    "outputId": "e6e573d5-5ee7-4a6d-dc8d-e3683a941ffb"
   },
   "outputs": [
    {
     "output_type": "stream",
     "name": "stdout",
     "text": [
      "encoded_pointcloud.shape: torch.Size([1, 64, 192])\n"
     ]
    }
   ],
   "source": [
    "from upt.models.encoder_supernodes import EncoderSupernodes\n",
    "\n",
    "encoder = EncoderSupernodes(\n",
    "    # CIFAR has 3 channels (RGB)\n",
    "    input_dim=3,\n",
    "    # CIFAR is an image dataset -> 2D\n",
    "    ndim=2,\n",
    "    # there are 32x32 pixels so positions are in [0, 31], to have roughly the same input as a ViT\n",
    "    # with patch_size=4, we'll use radius slighly larger than 2\n",
    "    radius=5,\n",
    "    # if we split a 32x32 image into 8x8 gridpoints, each point would cover 4x4 pixels, i.e. 16 pixels (=nodes)\n",
    "    # since we sample supernodes randomly and use a larger radius, it can happen that more than 16 nodes\n",
    "    # are in the radius of a supernode, so we'll use at maximum 32 connections to each supernode\n",
    "    max_degree=32,\n",
    "    # dimension for the supernode pooling -> use same as ViT-T latent dim\n",
    "    gnn_dim=192,\n",
    "    # ViT-T latent dimension\n",
    "    enc_dim=192,\n",
    "    enc_num_heads=3,\n",
    "    # ViT-T has 12 blocks -> parameters are split evenly among encoder/approximator/decoder\n",
    "    enc_depth=4,\n",
    "    # the perceiver is optional, it changes the size of the latent space to NUM_LATENT_TOKENS tokens\n",
    "    # perc_dim=dim,\n",
    "    # perc_num_heads=num_heads,\n",
    "    # num_latent_tokens=32,\n",
    ")\n",
    "\n",
    "# for now, we only encode 1 sample, so we need to generate some supernode indices\n",
    "# later the collator will take care of this\n",
    "sample = train_dataset[0]\n",
    "# select 64 random pixels as supernodes\n",
    "supernode_idxs = torch.randperm(len(sample[\"input_feat\"]))[:64]\n",
    "# and we need a batch_idx tensor\n",
    "batch_idx = torch.zeros(len(sample[\"input_feat\"]), dtype=torch.long)\n",
    "encoded_pointcloud = encoder(\n",
    "    input_feat=sample[\"input_feat\"],\n",
    "    input_pos=sample[\"input_pos\"],\n",
    "    supernode_idxs=supernode_idxs,\n",
    "    batch_idx=batch_idx,\n",
    ")\n",
    "print(f\"encoded_pointcloud.shape: {encoded_pointcloud.shape}\")"
   ]
  },
  {
   "cell_type": "markdown",
   "metadata": {
    "collapsed": false,
    "pycharm": {
     "name": "#%% md\n"
    },
    "id": "DII9a3MnUQPg"
   },
   "source": [
    "In this setting, we dont really need an approximator, but we'll keep it for consistency."
   ]
  },
  {
   "cell_type": "code",
   "execution_count": 8,
   "metadata": {
    "pycharm": {
     "name": "#%%\n"
    },
    "colab": {
     "base_uri": "https://localhost:8080/"
    },
    "id": "g3s1_Sj9UQPh",
    "outputId": "817ddc0a-35a1-4380-a531-9450663291f3"
   },
   "outputs": [
    {
     "output_type": "stream",
     "name": "stdout",
     "text": [
      "approximator_output.shape: torch.Size([1, 64, 192])\n"
     ]
    }
   ],
   "source": [
    "from upt.models.approximator import Approximator\n",
    "\n",
    "approximator = Approximator(\n",
    "    # tell the approximator the dimension of the input (perc_dim or enc_dim of encoder)\n",
    "    input_dim=192,\n",
    "    # as in ViT-T\n",
    "    dim=192,\n",
    "    num_heads=3,\n",
    "    # ViT-T has 12 blocks -> parameters are split evenly among encoder/approximator/decoder\n",
    "    depth=4,\n",
    ")\n",
    "\n",
    "approximator_output = approximator(encoded_pointcloud)\n",
    "print(f\"approximator_output.shape: {approximator_output.shape}\")"
   ]
  },
  {
   "cell_type": "markdown",
   "metadata": {
    "collapsed": false,
    "pycharm": {
     "name": "#%% md\n"
    },
    "id": "JCYrarTCUQPh"
   },
   "source": [
    "The decoder now queries the latent space with the corresponding output positions:"
   ]
  },
  {
   "cell_type": "code",
   "execution_count": 9,
   "metadata": {
    "pycharm": {
     "name": "#%%\n"
    },
    "colab": {
     "base_uri": "https://localhost:8080/"
    },
    "id": "GvSrbRCyUQPh",
    "outputId": "2ca562a6-24f5-4c7b-b0ad-ed867de6e1e4"
   },
   "outputs": [
    {
     "output_type": "stream",
     "name": "stdout",
     "text": [
      "prediction.shape: torch.Size([768, 3])\n"
     ]
    }
   ],
   "source": [
    "from upt.models.decoder_perceiver import DecoderPerceiver\n",
    "\n",
    "decoder = DecoderPerceiver(\n",
    "    # tell the decoder the dimension of the input (dim of approximator)\n",
    "    input_dim=192,\n",
    "    # 3 channels for RGB\n",
    "    output_dim=3,\n",
    "    # images have 2D coordinates\n",
    "    ndim=2,\n",
    "    # as in ViT-T\n",
    "    dim=192,\n",
    "    num_heads=3,\n",
    "    # ViT-T has 12 blocks -> parameters are split evenly among encoder/approximator/decoder\n",
    "    depth=4,\n",
    "    # we assume an unpadded dense tensor (fixed num_outputs) -> conver to sparse tensor\n",
    "    unbatch_mode=\"dense_to_sparse_unpadded\",\n",
    ")\n",
    "prediction = decoder(approximator_output, output_pos=sample[\"output_pos\"].unsqueeze(0))\n",
    "print(f\"prediction.shape: {prediction.shape}\")"
   ]
  },
  {
   "cell_type": "code",
   "execution_count": 10,
   "metadata": {
    "colab": {
     "base_uri": "https://localhost:8080/"
    },
    "id": "KKktMitrUQPh",
    "outputId": "96b8d44d-1614-4e51-e72b-771524ce635e"
   },
   "outputs": [
    {
     "output_type": "stream",
     "name": "stdout",
     "text": [
      "target_feat.shape: torch.Size([768, 3])\n"
     ]
    }
   ],
   "source": [
    "# the predictions have the same shape as our reconstruction target -> easy loss calculation\n",
    "print(f\"target_feat.shape: {sample['target_feat'].shape}\")"
   ]
  },
  {
   "cell_type": "markdown",
   "metadata": {
    "collapsed": false,
    "pycharm": {
     "name": "#%% md\n"
    },
    "id": "NBkNHDaEUQPi"
   },
   "source": [
    "# Train a model\n",
    "Now we can put it all together and train UPT in as an autoencoder."
   ]
  },
  {
   "cell_type": "code",
   "execution_count": 12,
   "metadata": {
    "pycharm": {
     "name": "#%%\n"
    },
    "colab": {
     "base_uri": "https://localhost:8080/",
     "height": 426
    },
    "id": "eBHv2BETUQPi",
    "outputId": "b7b59c54-a3b6-463d-ce37-c6a731a38220"
   },
   "outputs": [
    {
     "output_type": "stream",
     "name": "stdout",
     "text": [
      "Files already downloaded and verified\n",
      "Files already downloaded and verified\n",
      "parameters: 98.6M\n"
     ]
    },
    {
     "output_type": "stream",
     "name": "stderr",
     "text": [
      "train_loss: 0.0649:   1%|          | 96/7810 [02:54<3:51:52,  1.80s/it]"
     ]
    },
    {
     "output_type": "error",
     "ename": "KeyboardInterrupt",
     "evalue": "",
     "traceback": [
      "\u001B[0;31m---------------------------------------------------------------------------\u001B[0m",
      "\u001B[0;31mKeyboardInterrupt\u001B[0m                         Traceback (most recent call last)",
      "\u001B[0;32m<ipython-input-12-89ae9262563a>\u001B[0m in \u001B[0;36m<cell line: 133>\u001B[0;34m()\u001B[0m\n\u001B[1;32m    151\u001B[0m \u001B[0;34m\u001B[0m\u001B[0m\n\u001B[1;32m    152\u001B[0m         \u001B[0;31m# backward pass\u001B[0m\u001B[0;34m\u001B[0m\u001B[0;34m\u001B[0m\u001B[0m\n\u001B[0;32m--> 153\u001B[0;31m         \u001B[0mloss\u001B[0m\u001B[0;34m.\u001B[0m\u001B[0mbackward\u001B[0m\u001B[0;34m(\u001B[0m\u001B[0;34m)\u001B[0m\u001B[0;34m\u001B[0m\u001B[0;34m\u001B[0m\u001B[0m\n\u001B[0m\u001B[1;32m    154\u001B[0m \u001B[0;34m\u001B[0m\u001B[0m\n\u001B[1;32m    155\u001B[0m         \u001B[0;31m# update step\u001B[0m\u001B[0;34m\u001B[0m\u001B[0;34m\u001B[0m\u001B[0m\n",
      "\u001B[0;32m/usr/local/lib/python3.10/dist-packages/torch/_tensor.py\u001B[0m in \u001B[0;36mbackward\u001B[0;34m(self, gradient, retain_graph, create_graph, inputs)\u001B[0m\n\u001B[1;32m    523\u001B[0m                 \u001B[0minputs\u001B[0m\u001B[0;34m=\u001B[0m\u001B[0minputs\u001B[0m\u001B[0;34m,\u001B[0m\u001B[0;34m\u001B[0m\u001B[0;34m\u001B[0m\u001B[0m\n\u001B[1;32m    524\u001B[0m             )\n\u001B[0;32m--> 525\u001B[0;31m         torch.autograd.backward(\n\u001B[0m\u001B[1;32m    526\u001B[0m             \u001B[0mself\u001B[0m\u001B[0;34m,\u001B[0m \u001B[0mgradient\u001B[0m\u001B[0;34m,\u001B[0m \u001B[0mretain_graph\u001B[0m\u001B[0;34m,\u001B[0m \u001B[0mcreate_graph\u001B[0m\u001B[0;34m,\u001B[0m \u001B[0minputs\u001B[0m\u001B[0;34m=\u001B[0m\u001B[0minputs\u001B[0m\u001B[0;34m\u001B[0m\u001B[0;34m\u001B[0m\u001B[0m\n\u001B[1;32m    527\u001B[0m         )\n",
      "\u001B[0;32m/usr/local/lib/python3.10/dist-packages/torch/autograd/__init__.py\u001B[0m in \u001B[0;36mbackward\u001B[0;34m(tensors, grad_tensors, retain_graph, create_graph, grad_variables, inputs)\u001B[0m\n\u001B[1;32m    265\u001B[0m     \u001B[0;31m# some Python versions print out the first line of a multi-line function\u001B[0m\u001B[0;34m\u001B[0m\u001B[0;34m\u001B[0m\u001B[0m\n\u001B[1;32m    266\u001B[0m     \u001B[0;31m# calls in the traceback and some print out the last line\u001B[0m\u001B[0;34m\u001B[0m\u001B[0;34m\u001B[0m\u001B[0m\n\u001B[0;32m--> 267\u001B[0;31m     _engine_run_backward(\n\u001B[0m\u001B[1;32m    268\u001B[0m         \u001B[0mtensors\u001B[0m\u001B[0;34m,\u001B[0m\u001B[0;34m\u001B[0m\u001B[0;34m\u001B[0m\u001B[0m\n\u001B[1;32m    269\u001B[0m         \u001B[0mgrad_tensors_\u001B[0m\u001B[0;34m,\u001B[0m\u001B[0;34m\u001B[0m\u001B[0;34m\u001B[0m\u001B[0m\n",
      "\u001B[0;32m/usr/local/lib/python3.10/dist-packages/torch/autograd/graph.py\u001B[0m in \u001B[0;36m_engine_run_backward\u001B[0;34m(t_outputs, *args, **kwargs)\u001B[0m\n\u001B[1;32m    742\u001B[0m         \u001B[0munregister_hooks\u001B[0m \u001B[0;34m=\u001B[0m \u001B[0m_register_logging_hooks_on_whole_graph\u001B[0m\u001B[0;34m(\u001B[0m\u001B[0mt_outputs\u001B[0m\u001B[0;34m)\u001B[0m\u001B[0;34m\u001B[0m\u001B[0;34m\u001B[0m\u001B[0m\n\u001B[1;32m    743\u001B[0m     \u001B[0;32mtry\u001B[0m\u001B[0;34m:\u001B[0m\u001B[0;34m\u001B[0m\u001B[0;34m\u001B[0m\u001B[0m\n\u001B[0;32m--> 744\u001B[0;31m         return Variable._execution_engine.run_backward(  # Calls into the C++ engine to run the backward pass\n\u001B[0m\u001B[1;32m    745\u001B[0m             \u001B[0mt_outputs\u001B[0m\u001B[0;34m,\u001B[0m \u001B[0;34m*\u001B[0m\u001B[0margs\u001B[0m\u001B[0;34m,\u001B[0m \u001B[0;34m**\u001B[0m\u001B[0mkwargs\u001B[0m\u001B[0;34m\u001B[0m\u001B[0;34m\u001B[0m\u001B[0m\n\u001B[1;32m    746\u001B[0m         )  # Calls into the C++ engine to run the backward pass\n",
      "\u001B[0;31mKeyboardInterrupt\u001B[0m: "
     ]
    }
   ],
   "source": [
    "import torch\n",
    "import torch.nn.functional as F\n",
    "from torch.utils.data import DataLoader\n",
    "from torchvision.transforms import ToTensor\n",
    "from tqdm import tqdm\n",
    "\n",
    "from upt.models.approximator import Approximator\n",
    "from upt.models.decoder_perceiver import DecoderPerceiver\n",
    "from upt.models.encoder_supernodes import EncoderSupernodes\n",
    "from upt.models.upt_sparseimage_autoencoder import UPTSparseImageAutoencoder\n",
    "from upt.datasets.sparse_cifar10_autoencoder_dataset import SparseCIFAR10AutoencoderDataset\n",
    "from upt.collators.sparseimage_autoencoder_collator import SparseImageAutoencoderCollator\n",
    "\n",
    "\n",
    "\n",
    "# initialize dataset\n",
    "transform = ToTensor()\n",
    "train_dataset = SparseCIFAR10AutoencoderDataset(\n",
    "    root=\"./data\",\n",
    "    train=True,\n",
    "    download=True,\n",
    "    transform=transform,\n",
    "    # use half of the inputs for training (32x32 pixels = 1024)\n",
    "    num_inputs=512,\n",
    "    # use 3/4th of the outputs for training (32x32 pixels = 1024)\n",
    "    num_outputs=768,\n",
    ")\n",
    "test_dataset = SparseCIFAR10AutoencoderDataset(\n",
    "    root=\"./data\",\n",
    "    train=False,\n",
    "    download=True,\n",
    "    transform=transform,\n",
    "    # use all inputs/outputs for evaluation (32x32 pixels = 1024)\n",
    "    num_inputs=1024,\n",
    "    num_outputs=1024,\n",
    ")\n",
    "\n",
    "# hyperparameters\n",
    "dim = 192  # ~6M parameter model\n",
    "num_heads = 3\n",
    "epochs = 10\n",
    "batch_size = 64\n",
    "\n",
    "# initialize model\n",
    "model = UPTSparseImageAutoencoder(\n",
    "    encoder=EncoderSupernodes(\n",
    "        # CIFAR has 3 channels (RGB)\n",
    "        input_dim=3,\n",
    "        # CIFAR is an image dataset -> 2D\n",
    "        ndim=2,\n",
    "        # there are 32x32 pixels so positions are in [0, 31], to have roughly the same input as a ViT\n",
    "        # with patch_size=4, we'll use radius slighly larger than 4\n",
    "        radius=4,\n",
    "        # if we split a 32x32 image into 8x8 gridpoints, each point would cover 4x4 pixels, i.e. 16 pixels (=nodes)\n",
    "        # since we sample supernodes randomly and use a larger radius, it can happen that more than 16 nodes\n",
    "        # are in the radius of a supernode, so we'll use at maximum 32 connections to each supernode\n",
    "        max_degree=32,\n",
    "        # dimension for the supernode pooling -> use same as ViT-T latent dim\n",
    "        gnn_dim=dim,\n",
    "        # ViT-T latent dimension\n",
    "        enc_dim=dim,\n",
    "        enc_num_heads=num_heads,\n",
    "        # ViT-T has 12 blocks -> parameters are split evenly among encoder/approximator/decoder\n",
    "        enc_depth=4,\n",
    "        # the perceiver is optional, it changes the size of the latent space to NUM_LATENT_TOKENS tokens\n",
    "        # perc_dim=dim,\n",
    "        # perc_num_heads=num_heads,\n",
    "        # num_latent_tokens=32,\n",
    "    ),\n",
    "    approximator=Approximator(\n",
    "        # tell the approximator the dimension of the input (perc_dim or enc_dim of encoder)\n",
    "        input_dim=dim,\n",
    "        # as in ViT-T\n",
    "        dim=dim,\n",
    "        num_heads=num_heads,\n",
    "        # ViT-T has 12 blocks -> parameters are split evenly among encoder/approximator/decoder\n",
    "        depth=4,\n",
    "    ),\n",
    "    decoder=DecoderPerceiver(\n",
    "        # tell the decoder the dimension of the input (dim of approximator)\n",
    "        input_dim=dim,\n",
    "        # 3 channels for RGB\n",
    "        output_dim=3,\n",
    "        # images have 2D coordinates\n",
    "        ndim=2,\n",
    "        # as in ViT-T\n",
    "        dim=dim,\n",
    "        num_heads=num_heads,\n",
    "        # ViT-T has 12 blocks -> parameters are split evenly among encoder/approximator/decoder\n",
    "        depth=4,\n",
    "    ),\n",
    ")\n",
    "model = model.to(device)\n",
    "print(f\"parameters: {sum(p.numel() for p in model.parameters()) / 1e6:.1f}M\")\n",
    "\n",
    "# setup dataloaders\n",
    "train_dataloader = DataLoader(\n",
    "    dataset=train_dataset,\n",
    "    batch_size=batch_size,\n",
    "    shuffle=True,\n",
    "    drop_last=True,\n",
    "    collate_fn=SparseImageAutoencoderCollator(num_supernodes=64, deterministic=False),\n",
    ")\n",
    "test_dataloader = DataLoader(\n",
    "    dataset=test_dataset,\n",
    "    batch_size=batch_size,\n",
    "    collate_fn=SparseImageAutoencoderCollator(num_supernodes=64, deterministic=True),\n",
    ")\n",
    "\n",
    "# initialize optimizer and learning rate schedule (linear warmup for first 10% -> linear decay)\n",
    "optim = torch.optim.AdamW(model.parameters(), lr=1e-4, weight_decay=0.05)\n",
    "total_updates = len(train_dataloader) * epochs\n",
    "warmup_updates = int(total_updates * 0.1)\n",
    "lrs = torch.concat(\n",
    "    [\n",
    "        # linear warmup\n",
    "        torch.linspace(0, optim.defaults[\"lr\"], warmup_updates),\n",
    "        # linear decay\n",
    "        torch.linspace(optim.defaults[\"lr\"], 0, total_updates - warmup_updates),\n",
    "    ],\n",
    ")\n",
    "\n",
    "# train model\n",
    "update = 0\n",
    "pbar = tqdm(total=total_updates)\n",
    "pbar.update(0)\n",
    "pbar.set_description(\"train_loss: ????? train_accuracy: ????% test_accuracy: ????%\")\n",
    "test_accuracy = 0.0\n",
    "train_losses = []\n",
    "test_losses = []\n",
    "loss = None\n",
    "test_loss = None\n",
    "for _ in range(epochs):\n",
    "    # train for an epoch\n",
    "    for batch in train_dataloader:\n",
    "        # schedule learning rate\n",
    "        for param_group in optim.param_groups:\n",
    "            param_group[\"lr\"] = lrs[update]\n",
    "\n",
    "        # forward pass\n",
    "        y_hat = model(\n",
    "            input_feat=batch[\"input_feat\"].to(device),\n",
    "            input_pos=batch[\"input_pos\"].to(device),\n",
    "            supernode_idxs=batch[\"supernode_idxs\"].to(device),\n",
    "            batch_idx=batch[\"batch_idx\"].to(device),\n",
    "            output_pos=batch[\"output_pos\"].to(device),\n",
    "        )\n",
    "        y = batch[\"target_feat\"].to(device)\n",
    "        assert y_hat.shape == y.shape\n",
    "        loss = F.mse_loss(y_hat, y)\n",
    "\n",
    "        # backward pass\n",
    "        loss.backward()\n",
    "\n",
    "        # update step\n",
    "        optim.step()\n",
    "        optim.zero_grad()\n",
    "\n",
    "        # status update\n",
    "        update += 1\n",
    "        pbar.update()\n",
    "        if test_loss is None:\n",
    "            pbar.set_description(f\"train_loss: {loss.item():.4f}\")\n",
    "        else:\n",
    "            pbar.set_description(\n",
    "                f\"train_loss: {loss.item():.4f} \"\n",
    "                f\"test_loss: {test_loss:.4f} \"\n",
    "            )\n",
    "        train_losses.append(loss.item())\n",
    "\n",
    "    # evaluate\n",
    "    # test_loss = 0.\n",
    "    # for batch in test_dataloader:\n",
    "    #     with torch.no_grad():\n",
    "    #         y_hat = model(\n",
    "    #             input_feat=batch[\"input_feat\"].to(device),\n",
    "    #             input_pos=batch[\"input_pos\"].to(device),\n",
    "    #             supernode_idxs=batch[\"supernode_idxs\"].to(device),\n",
    "    #             batch_idx=batch[\"batch_idx\"].to(device),\n",
    "    #             output_pos=batch[\"output_pos\"].to(device),\n",
    "    #         )\n",
    "    #     y = batch[\"target_feat\"].to(device)\n",
    "    #     test_loss += (F.mse_loss(y_hat, y, reduction=\"sum\") / y.numel()).item()\n",
    "    # test_loss /= len(test_dataloader)\n",
    "    # test_losses.append(test_loss)\n",
    "    # pbar.set_description(\n",
    "    #     f\"train_loss: {loss.item():.4f} \"\n",
    "    #     f\"test_loss: {test_loss:.4f} \"\n",
    "    # )\n",
    "pbar.close()"
   ]
  },
  {
   "cell_type": "markdown",
   "metadata": {
    "collapsed": false,
    "pycharm": {
     "name": "#%% md\n"
    },
    "id": "-SzyE50uUQPi"
   },
   "source": [
    "Lets plot the learning curves"
   ]
  },
  {
   "cell_type": "code",
   "execution_count": null,
   "metadata": {
    "pycharm": {
     "name": "#%%\n"
    },
    "id": "EZ7pi8UoUQPi"
   },
   "outputs": [],
   "source": [
    "import matplotlib.pyplot as plt\n",
    "_, axes = plt.subplots(1, 2, figsize=(12, 5))\n",
    "axes[0].plot(range(len(train_losses)), train_losses)\n",
    "axes[0].set_xlabel(\"Updates\")\n",
    "axes[0].set_ylabel(\"Train Loss\")\n",
    "axes[0].set_title(\"Train Loss\")\n",
    "axes[0].grid(True)\n",
    "axes[1].plot(range(len(test_losses)), test_losses)\n",
    "axes[1].set_xlabel(\"Updates\")\n",
    "axes[1].set_ylabel(\"Test Loss\")\n",
    "axes[1].set_title(\"Test Loss\")\n",
    "axes[1].grid(True)\n",
    "plt.tight_layout()\n",
    "plt.show()"
   ]
  },
  {
   "cell_type": "code",
   "source": [
    "# get test sample\n",
    "vis_dataloader = DataLoader(\n",
    "    dataset=train_dataset,\n",
    "    batch_size=1,\n",
    "    collate_fn=SparseImageAutoencoderCollator(num_supernodes=64, deterministic=True),\n",
    ")\n",
    "vis_batch = next(iter(vis_dataloader))"
   ],
   "metadata": {
    "id": "xDTU_GR3hl8n"
   },
   "execution_count": null,
   "outputs": []
  },
  {
   "cell_type": "code",
   "source": [
    "# make predictions\n",
    "with torch.no_grad():\n",
    "    y_hat = model(\n",
    "        input_feat=vis_batch[\"input_feat\"].to(device),\n",
    "        input_pos=vis_batch[\"input_pos\"].to(device),\n",
    "        supernode_idxs=vis_batch[\"supernode_idxs\"].to(device),\n",
    "        batch_idx=vis_batch[\"batch_idx\"].to(device),\n",
    "        output_pos=vis_batch[\"output_pos\"].to(device),\n",
    "    )"
   ],
   "metadata": {
    "id": "pX2zPzrJhqG3"
   },
   "execution_count": null,
   "outputs": []
  },
  {
   "cell_type": "code",
   "source": [
    "# plot sparse\n",
    "sample = vis_batch\n",
    "x_out, y_out = sample[\"output_pos\"][0].unbind(1)\n",
    "c_pred = y_hat.cpu().clamp(0, 1)\n",
    "c_out = sample[\"target_feat\"]\n",
    "\n",
    "_, axes = plt.subplots(1, 2, figsize=(4, 2))\n",
    "axes[0].scatter(y_out, 31 - x_out, c=c_out, marker=\"s\", s=10)\n",
    "axes[0].set_title(\"target\")\n",
    "axes[0].set_axis_off()\n",
    "axes[1].scatter(y_out, 31 - x_out, c=c_pred, marker=\"s\", s=10)\n",
    "axes[1].set_title(\"pred\")\n",
    "axes[1].set_axis_off()\n",
    "plt.tight_layout()\n",
    "plt.show()"
   ],
   "metadata": {
    "id": "78gLtj0Dhkrs"
   },
   "execution_count": null,
   "outputs": []
  }
 ],
 "metadata": {
  "kernelspec": {
   "display_name": "Python 3",
   "name": "python3"
  },
  "language_info": {
   "codemirror_mode": {
    "name": "ipython",
    "version": 3
   },
   "file_extension": ".py",
   "mimetype": "text/x-python",
   "name": "python",
   "nbconvert_exporter": "python",
   "pygments_lexer": "ipython3",
   "version": "3.9.16"
  },
  "colab": {
   "provenance": [],
   "gpuType": "T4"
  },
  "accelerator": "GPU"
 },
 "nbformat": 4,
 "nbformat_minor": 0
}